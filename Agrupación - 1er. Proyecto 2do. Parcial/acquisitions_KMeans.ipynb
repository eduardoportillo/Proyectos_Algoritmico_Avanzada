{
 "cells": [
  {
   "cell_type": "code",
   "execution_count": 1,
   "metadata": {},
   "outputs": [],
   "source": [
    "from sklearn.cluster import KMeans\n",
    "\n",
    "import pandas as pd\n",
    "import matplotlib.pyplot as plt\n",
    "import numpy as np"
   ]
  },
  {
   "cell_type": "code",
   "execution_count": 2,
   "metadata": {},
   "outputs": [],
   "source": [
    "df = pd.read_csv('acquisitions.csv')"
   ]
  },
  {
   "cell_type": "code",
   "execution_count": 3,
   "metadata": {},
   "outputs": [
    {
     "data": {
      "text/html": [
       "<div>\n",
       "<style scoped>\n",
       "    .dataframe tbody tr th:only-of-type {\n",
       "        vertical-align: middle;\n",
       "    }\n",
       "\n",
       "    .dataframe tbody tr th {\n",
       "        vertical-align: top;\n",
       "    }\n",
       "\n",
       "    .dataframe thead th {\n",
       "        text-align: right;\n",
       "    }\n",
       "</style>\n",
       "<table border=\"1\" class=\"dataframe\">\n",
       "  <thead>\n",
       "    <tr style=\"text-align: right;\">\n",
       "      <th></th>\n",
       "      <th>id</th>\n",
       "      <th>acquisition_id</th>\n",
       "      <th>acquiring_object_id</th>\n",
       "      <th>acquired_object_id</th>\n",
       "      <th>term_code</th>\n",
       "      <th>price_amount</th>\n",
       "      <th>price_currency_code</th>\n",
       "      <th>acquired_at</th>\n",
       "      <th>source_url</th>\n",
       "      <th>source_description</th>\n",
       "      <th>created_at</th>\n",
       "      <th>updated_at</th>\n",
       "    </tr>\n",
       "  </thead>\n",
       "  <tbody>\n",
       "    <tr>\n",
       "      <th>0</th>\n",
       "      <td>1</td>\n",
       "      <td>1</td>\n",
       "      <td>c:11</td>\n",
       "      <td>c:10</td>\n",
       "      <td>NaN</td>\n",
       "      <td>20000000.0</td>\n",
       "      <td>USD</td>\n",
       "      <td>2007-05-30</td>\n",
       "      <td>http://venturebeat.com/2007/05/30/fox-interact...</td>\n",
       "      <td>Fox Interactive confirms purchase of Photobuck...</td>\n",
       "      <td>2007-05-31 22:19:54</td>\n",
       "      <td>2008-05-21 19:23:44</td>\n",
       "    </tr>\n",
       "    <tr>\n",
       "      <th>1</th>\n",
       "      <td>2</td>\n",
       "      <td>7</td>\n",
       "      <td>c:59</td>\n",
       "      <td>c:72</td>\n",
       "      <td>cash</td>\n",
       "      <td>60000000.0</td>\n",
       "      <td>USD</td>\n",
       "      <td>2007-07-01</td>\n",
       "      <td>http://www.techcrunch.com/2007/07/02/deal-is-c...</td>\n",
       "      <td>Deal is Confirmed: Google Acquired GrandCentral</td>\n",
       "      <td>2007-07-03 08:14:50</td>\n",
       "      <td>2011-05-06 21:51:05</td>\n",
       "    </tr>\n",
       "    <tr>\n",
       "      <th>2</th>\n",
       "      <td>3</td>\n",
       "      <td>8</td>\n",
       "      <td>c:24</td>\n",
       "      <td>c:132</td>\n",
       "      <td>cash</td>\n",
       "      <td>280000000.0</td>\n",
       "      <td>USD</td>\n",
       "      <td>2007-05-01</td>\n",
       "      <td>http://www.techcrunch.com/2007/05/30/cbs-acqui...</td>\n",
       "      <td>CBS Acquires Europeâs Last.fm for $280 million</td>\n",
       "      <td>2007-07-12 04:19:24</td>\n",
       "      <td>2008-05-19 04:48:50</td>\n",
       "    </tr>\n",
       "    <tr>\n",
       "      <th>3</th>\n",
       "      <td>4</td>\n",
       "      <td>9</td>\n",
       "      <td>c:59</td>\n",
       "      <td>c:155</td>\n",
       "      <td>cash</td>\n",
       "      <td>100000000.0</td>\n",
       "      <td>USD</td>\n",
       "      <td>2007-06-01</td>\n",
       "      <td>http://techcrunch.com/2007/05/23/100-million-p...</td>\n",
       "      <td>$100 Million Payday For Feedburner  This Deal...</td>\n",
       "      <td>2007-07-13 09:52:59</td>\n",
       "      <td>2012-06-05 03:22:17</td>\n",
       "    </tr>\n",
       "    <tr>\n",
       "      <th>4</th>\n",
       "      <td>5</td>\n",
       "      <td>10</td>\n",
       "      <td>c:212</td>\n",
       "      <td>c:215</td>\n",
       "      <td>cash</td>\n",
       "      <td>25000000.0</td>\n",
       "      <td>USD</td>\n",
       "      <td>2007-07-01</td>\n",
       "      <td>http://blog.seattlepi.nwsource.com/venture/arc...</td>\n",
       "      <td>seatlepi.com</td>\n",
       "      <td>2007-07-20 05:29:07</td>\n",
       "      <td>2008-02-25 00:23:47</td>\n",
       "    </tr>\n",
       "  </tbody>\n",
       "</table>\n",
       "</div>"
      ],
      "text/plain": [
       "   id  acquisition_id acquiring_object_id acquired_object_id term_code  \\\n",
       "0   1               1                c:11               c:10       NaN   \n",
       "1   2               7                c:59               c:72      cash   \n",
       "2   3               8                c:24              c:132      cash   \n",
       "3   4               9                c:59              c:155      cash   \n",
       "4   5              10               c:212              c:215      cash   \n",
       "\n",
       "   price_amount price_currency_code acquired_at  \\\n",
       "0    20000000.0                 USD  2007-05-30   \n",
       "1    60000000.0                 USD  2007-07-01   \n",
       "2   280000000.0                 USD  2007-05-01   \n",
       "3   100000000.0                 USD  2007-06-01   \n",
       "4    25000000.0                 USD  2007-07-01   \n",
       "\n",
       "                                          source_url  \\\n",
       "0  http://venturebeat.com/2007/05/30/fox-interact...   \n",
       "1  http://www.techcrunch.com/2007/07/02/deal-is-c...   \n",
       "2  http://www.techcrunch.com/2007/05/30/cbs-acqui...   \n",
       "3  http://techcrunch.com/2007/05/23/100-million-p...   \n",
       "4  http://blog.seattlepi.nwsource.com/venture/arc...   \n",
       "\n",
       "                                  source_description           created_at  \\\n",
       "0  Fox Interactive confirms purchase of Photobuck...  2007-05-31 22:19:54   \n",
       "1    Deal is Confirmed: Google Acquired GrandCentral  2007-07-03 08:14:50   \n",
       "2   CBS Acquires Europeâs Last.fm for $280 million  2007-07-12 04:19:24   \n",
       "3  $100 Million Payday For Feedburner  This Deal...  2007-07-13 09:52:59   \n",
       "4                                       seatlepi.com  2007-07-20 05:29:07   \n",
       "\n",
       "            updated_at  \n",
       "0  2008-05-21 19:23:44  \n",
       "1  2011-05-06 21:51:05  \n",
       "2  2008-05-19 04:48:50  \n",
       "3  2012-06-05 03:22:17  \n",
       "4  2008-02-25 00:23:47  "
      ]
     },
     "execution_count": 3,
     "metadata": {},
     "output_type": "execute_result"
    }
   ],
   "source": [
    "df.head()"
   ]
  },
  {
   "cell_type": "code",
   "execution_count": 4,
   "metadata": {},
   "outputs": [
    {
     "data": {
      "text/html": [
       "<div>\n",
       "<style scoped>\n",
       "    .dataframe tbody tr th:only-of-type {\n",
       "        vertical-align: middle;\n",
       "    }\n",
       "\n",
       "    .dataframe tbody tr th {\n",
       "        vertical-align: top;\n",
       "    }\n",
       "\n",
       "    .dataframe thead th {\n",
       "        text-align: right;\n",
       "    }\n",
       "</style>\n",
       "<table border=\"1\" class=\"dataframe\">\n",
       "  <thead>\n",
       "    <tr style=\"text-align: right;\">\n",
       "      <th></th>\n",
       "      <th>id</th>\n",
       "      <th>acquisition_id</th>\n",
       "      <th>price_amount</th>\n",
       "    </tr>\n",
       "  </thead>\n",
       "  <tbody>\n",
       "    <tr>\n",
       "      <th>count</th>\n",
       "      <td>9562.000000</td>\n",
       "      <td>9562.000000</td>\n",
       "      <td>9.562000e+03</td>\n",
       "    </tr>\n",
       "    <tr>\n",
       "      <th>mean</th>\n",
       "      <td>4781.500000</td>\n",
       "      <td>5266.795859</td>\n",
       "      <td>3.886191e+08</td>\n",
       "    </tr>\n",
       "    <tr>\n",
       "      <th>std</th>\n",
       "      <td>2760.455971</td>\n",
       "      <td>3009.738380</td>\n",
       "      <td>2.660374e+10</td>\n",
       "    </tr>\n",
       "    <tr>\n",
       "      <th>min</th>\n",
       "      <td>1.000000</td>\n",
       "      <td>1.000000</td>\n",
       "      <td>0.000000e+00</td>\n",
       "    </tr>\n",
       "    <tr>\n",
       "      <th>25%</th>\n",
       "      <td>2391.250000</td>\n",
       "      <td>2692.250000</td>\n",
       "      <td>0.000000e+00</td>\n",
       "    </tr>\n",
       "    <tr>\n",
       "      <th>50%</th>\n",
       "      <td>4781.500000</td>\n",
       "      <td>5197.500000</td>\n",
       "      <td>0.000000e+00</td>\n",
       "    </tr>\n",
       "    <tr>\n",
       "      <th>75%</th>\n",
       "      <td>7171.750000</td>\n",
       "      <td>7858.750000</td>\n",
       "      <td>5.000000e+05</td>\n",
       "    </tr>\n",
       "    <tr>\n",
       "      <th>max</th>\n",
       "      <td>9562.000000</td>\n",
       "      <td>10529.000000</td>\n",
       "      <td>2.600000e+12</td>\n",
       "    </tr>\n",
       "  </tbody>\n",
       "</table>\n",
       "</div>"
      ],
      "text/plain": [
       "                id  acquisition_id  price_amount\n",
       "count  9562.000000     9562.000000  9.562000e+03\n",
       "mean   4781.500000     5266.795859  3.886191e+08\n",
       "std    2760.455971     3009.738380  2.660374e+10\n",
       "min       1.000000        1.000000  0.000000e+00\n",
       "25%    2391.250000     2692.250000  0.000000e+00\n",
       "50%    4781.500000     5197.500000  0.000000e+00\n",
       "75%    7171.750000     7858.750000  5.000000e+05\n",
       "max    9562.000000    10529.000000  2.600000e+12"
      ]
     },
     "execution_count": 4,
     "metadata": {},
     "output_type": "execute_result"
    }
   ],
   "source": [
    "df.describe()"
   ]
  },
  {
   "cell_type": "markdown",
   "metadata": {},
   "source": [
    "## Iniciamos Limpieza."
   ]
  },
  {
   "cell_type": "code",
   "execution_count": 5,
   "metadata": {},
   "outputs": [],
   "source": [
    "df=df.drop(['id', 'acquisition_id','acquiring_object_id', 'acquired_object_id', 'acquired_at', 'source_url', 'source_description', 'created_at', 'updated_at'],axis=1)\n"
   ]
  },
  {
   "cell_type": "code",
   "execution_count": 6,
   "metadata": {},
   "outputs": [
    {
     "data": {
      "text/plain": [
       "array([nan, 'cash', 'stock', 'cash_and_stock'], dtype=object)"
      ]
     },
     "execution_count": 6,
     "metadata": {},
     "output_type": "execute_result"
    }
   ],
   "source": [
    "df['term_code'].unique()"
   ]
  },
  {
   "cell_type": "code",
   "execution_count": 7,
   "metadata": {},
   "outputs": [],
   "source": [
    "df = df.dropna(subset=['term_code'])\n",
    "df = df.dropna(subset=['price_currency_code'])"
   ]
  },
  {
   "cell_type": "code",
   "execution_count": 8,
   "metadata": {},
   "outputs": [],
   "source": [
    "\n",
    "df.term_code= df.term_code.map({'cash': 0, 'stock': 1, 'cash_and_stock':2})"
   ]
  },
  {
   "cell_type": "code",
   "execution_count": 9,
   "metadata": {},
   "outputs": [
    {
     "data": {
      "text/plain": [
       "array(['USD', 'EUR', 'CAD', 'SEK', 'GBP', 'JPY'], dtype=object)"
      ]
     },
     "execution_count": 9,
     "metadata": {},
     "output_type": "execute_result"
    }
   ],
   "source": [
    "df['price_currency_code'].unique()"
   ]
  },
  {
   "cell_type": "code",
   "execution_count": 10,
   "metadata": {},
   "outputs": [],
   "source": [
    "df.price_currency_code= df.price_currency_code.map({'USD': 0, 'EUR': 1, 'CAD':2, 'SEK': 3, 'GBP': 4, 'JPY': 5})"
   ]
  },
  {
   "cell_type": "code",
   "execution_count": 11,
   "metadata": {},
   "outputs": [
    {
     "data": {
      "text/plain": [
       "term_code                int64\n",
       "price_amount           float64\n",
       "price_currency_code      int64\n",
       "dtype: object"
      ]
     },
     "execution_count": 11,
     "metadata": {},
     "output_type": "execute_result"
    }
   ],
   "source": [
    "df.dtypes"
   ]
  },
  {
   "cell_type": "code",
   "execution_count": 12,
   "metadata": {},
   "outputs": [],
   "source": [
    "df['price_amount'] = df['price_amount'].astype(int)"
   ]
  },
  {
   "cell_type": "code",
   "execution_count": 13,
   "metadata": {},
   "outputs": [
    {
     "data": {
      "text/html": [
       "<div>\n",
       "<style scoped>\n",
       "    .dataframe tbody tr th:only-of-type {\n",
       "        vertical-align: middle;\n",
       "    }\n",
       "\n",
       "    .dataframe tbody tr th {\n",
       "        vertical-align: top;\n",
       "    }\n",
       "\n",
       "    .dataframe thead th {\n",
       "        text-align: right;\n",
       "    }\n",
       "</style>\n",
       "<table border=\"1\" class=\"dataframe\">\n",
       "  <thead>\n",
       "    <tr style=\"text-align: right;\">\n",
       "      <th></th>\n",
       "      <th>term_code</th>\n",
       "      <th>price_amount</th>\n",
       "      <th>price_currency_code</th>\n",
       "    </tr>\n",
       "  </thead>\n",
       "  <tbody>\n",
       "    <tr>\n",
       "      <th>count</th>\n",
       "      <td>1906.000000</td>\n",
       "      <td>1.906000e+03</td>\n",
       "      <td>1906.000000</td>\n",
       "    </tr>\n",
       "    <tr>\n",
       "      <th>mean</th>\n",
       "      <td>0.584470</td>\n",
       "      <td>4.311641e+07</td>\n",
       "      <td>0.102308</td>\n",
       "    </tr>\n",
       "    <tr>\n",
       "      <th>std</th>\n",
       "      <td>0.844591</td>\n",
       "      <td>4.605581e+08</td>\n",
       "      <td>0.588182</td>\n",
       "    </tr>\n",
       "    <tr>\n",
       "      <th>min</th>\n",
       "      <td>0.000000</td>\n",
       "      <td>-2.147484e+09</td>\n",
       "      <td>0.000000</td>\n",
       "    </tr>\n",
       "    <tr>\n",
       "      <th>25%</th>\n",
       "      <td>0.000000</td>\n",
       "      <td>0.000000e+00</td>\n",
       "      <td>0.000000</td>\n",
       "    </tr>\n",
       "    <tr>\n",
       "      <th>50%</th>\n",
       "      <td>0.000000</td>\n",
       "      <td>2.795000e+06</td>\n",
       "      <td>0.000000</td>\n",
       "    </tr>\n",
       "    <tr>\n",
       "      <th>75%</th>\n",
       "      <td>1.000000</td>\n",
       "      <td>7.100000e+07</td>\n",
       "      <td>0.000000</td>\n",
       "    </tr>\n",
       "    <tr>\n",
       "      <th>max</th>\n",
       "      <td>2.000000</td>\n",
       "      <td>2.100000e+09</td>\n",
       "      <td>5.000000</td>\n",
       "    </tr>\n",
       "  </tbody>\n",
       "</table>\n",
       "</div>"
      ],
      "text/plain": [
       "         term_code  price_amount  price_currency_code\n",
       "count  1906.000000  1.906000e+03          1906.000000\n",
       "mean      0.584470  4.311641e+07             0.102308\n",
       "std       0.844591  4.605581e+08             0.588182\n",
       "min       0.000000 -2.147484e+09             0.000000\n",
       "25%       0.000000  0.000000e+00             0.000000\n",
       "50%       0.000000  2.795000e+06             0.000000\n",
       "75%       1.000000  7.100000e+07             0.000000\n",
       "max       2.000000  2.100000e+09             5.000000"
      ]
     },
     "execution_count": 13,
     "metadata": {},
     "output_type": "execute_result"
    }
   ],
   "source": [
    "df.describe()"
   ]
  },
  {
   "cell_type": "code",
   "execution_count": 14,
   "metadata": {},
   "outputs": [
    {
     "data": {
      "text/html": [
       "<div>\n",
       "<style scoped>\n",
       "    .dataframe tbody tr th:only-of-type {\n",
       "        vertical-align: middle;\n",
       "    }\n",
       "\n",
       "    .dataframe tbody tr th {\n",
       "        vertical-align: top;\n",
       "    }\n",
       "\n",
       "    .dataframe thead th {\n",
       "        text-align: right;\n",
       "    }\n",
       "</style>\n",
       "<table border=\"1\" class=\"dataframe\">\n",
       "  <thead>\n",
       "    <tr style=\"text-align: right;\">\n",
       "      <th></th>\n",
       "      <th>price_amount</th>\n",
       "      <th>term_code</th>\n",
       "      <th>price_currency_code</th>\n",
       "    </tr>\n",
       "  </thead>\n",
       "  <tbody>\n",
       "    <tr>\n",
       "      <th>1</th>\n",
       "      <td>60000000</td>\n",
       "      <td>0</td>\n",
       "      <td>0</td>\n",
       "    </tr>\n",
       "    <tr>\n",
       "      <th>2</th>\n",
       "      <td>280000000</td>\n",
       "      <td>0</td>\n",
       "      <td>0</td>\n",
       "    </tr>\n",
       "    <tr>\n",
       "      <th>3</th>\n",
       "      <td>100000000</td>\n",
       "      <td>0</td>\n",
       "      <td>0</td>\n",
       "    </tr>\n",
       "    <tr>\n",
       "      <th>4</th>\n",
       "      <td>25000000</td>\n",
       "      <td>0</td>\n",
       "      <td>0</td>\n",
       "    </tr>\n",
       "    <tr>\n",
       "      <th>6</th>\n",
       "      <td>0</td>\n",
       "      <td>0</td>\n",
       "      <td>0</td>\n",
       "    </tr>\n",
       "  </tbody>\n",
       "</table>\n",
       "</div>"
      ],
      "text/plain": [
       "   price_amount  term_code  price_currency_code\n",
       "1      60000000          0                    0\n",
       "2     280000000          0                    0\n",
       "3     100000000          0                    0\n",
       "4      25000000          0                    0\n",
       "6             0          0                    0"
      ]
     },
     "execution_count": 14,
     "metadata": {},
     "output_type": "execute_result"
    }
   ],
   "source": [
    "df = df.reindex(columns=['price_amount','term_code','price_currency_code'])\n",
    "df.head()"
   ]
  },
  {
   "cell_type": "markdown",
   "metadata": {},
   "source": [
    "## Iniciamos K-Means"
   ]
  },
  {
   "cell_type": "code",
   "execution_count": 15,
   "metadata": {},
   "outputs": [],
   "source": [
    "cluster_numbers = range(1, 9)\n",
    "models = [KMeans(n_clusters = cluster) for cluster in cluster_numbers]\n",
    "score = [model.fit(df).score(df) for model in models]"
   ]
  },
  {
   "cell_type": "code",
   "execution_count": 16,
   "metadata": {},
   "outputs": [
    {
     "data": {
      "image/png": "[encoded data removed]",
      "text/plain": [
       "<Figure size 432x288 with 1 Axes>"
      ]
     },
     "metadata": {
      "needs_background": "light"
     },
     "output_type": "display_data"
    }
   ],
   "source": [
    "plt.plot(cluster_numbers, score)\n",
    "plt.xlabel('Centroids')\n",
    "plt.ylabel('puntuación')\n",
    "plt.show()"
   ]
  },
  {
   "cell_type": "code",
   "execution_count": 17,
   "metadata": {},
   "outputs": [
    {
     "data": {
      "text/plain": [
       "KMeans(n_clusters=6)"
      ]
     },
     "execution_count": 17,
     "metadata": {},
     "output_type": "execute_result"
    }
   ],
   "source": [
    "k_means = KMeans(n_clusters=6)\n",
    "k_means.fit(df)"
   ]
  },
  {
   "cell_type": "code",
   "execution_count": 18,
   "metadata": {},
   "outputs": [
    {
     "data": {
      "text/plain": [
       "array([0, 3, 0, ..., 1, 3, 0])"
      ]
     },
     "execution_count": 18,
     "metadata": {},
     "output_type": "execute_result"
    }
   ],
   "source": [
    "k_means.labels_"
   ]
  },
  {
   "cell_type": "code",
   "execution_count": 19,
   "metadata": {},
   "outputs": [
    {
     "data": {
      "text/plain": [
       "array([[ 1.78589189e+07,  5.77969476e-01,  1.15461181e-01],\n",
       "       [-2.14748365e+09,  6.07142857e-01,  1.42857143e-01],\n",
       "       [ 1.13152622e+09,  5.67567568e-01,  1.38777878e-17],\n",
       "       [ 2.70860930e+08,  6.13953488e-01,  4.18604651e-02],\n",
       "       [ 1.77500000e+09,  8.12500000e-01,  0.00000000e+00],\n",
       "       [ 6.26986667e+08,  5.73333333e-01,  5.33333333e-02]])"
      ]
     },
     "execution_count": 19,
     "metadata": {},
     "output_type": "execute_result"
    }
   ],
   "source": [
    "k_means.cluster_centers_"
   ]
  },
  {
   "cell_type": "code",
   "execution_count": 20,
   "metadata": {},
   "outputs": [
    {
     "data": {
      "image/png": "[encoded data removed]",
      "text/plain": [
       "<Figure size 432x288 with 1 Axes>"
      ]
     },
     "metadata": {
      "needs_background": "light"
     },
     "output_type": "display_data"
    }
   ],
   "source": [
    "df_numpify = df.to_numpy()\n",
    "figure = plt.figure()\n",
    "axis = figure.add_subplot(111, projection='3d')\n",
    "chart = axis.scatter(df_numpify[:, 0], df_numpify[:, 1], df_numpify[:, 2])\n",
    "centers = axis.scatter(k_means.cluster_centers_[:, 0], k_means.cluster_centers_[\n",
    "                       :, 1], k_means.cluster_centers_[:, 2])\n",
    "axis.set_xlabel('price_amount')\n",
    "axis.set_ylabel('term_code')\n",
    "axis.set_zlabel('price_currency_code')\n",
    "plt.show()"
   ]
  },
  {
   "cell_type": "code",
   "execution_count": 21,
   "metadata": {},
   "outputs": [],
   "source": [
    "acqusitions_classification = [\n",
    "    'venta malo',\n",
    "    'venta promedio',\n",
    "    'venta estandar',\n",
    "    'venta bueno',\n",
    "    'venta perfecto',\n",
    "    'venta estrella'\n",
    "]"
   ]
  },
  {
   "cell_type": "code",
   "execution_count": 22,
   "metadata": {},
   "outputs": [],
   "source": [
    "df2 = pd.read_csv('acquisitions.csv')"
   ]
  },
  {
   "cell_type": "code",
   "execution_count": 23,
   "metadata": {},
   "outputs": [],
   "source": [
    "df2 = df2.dropna(subset=['term_code'])\n",
    "df2 = df2.dropna(subset=['price_currency_code'])"
   ]
  },
  {
   "cell_type": "code",
   "execution_count": 24,
   "metadata": {},
   "outputs": [],
   "source": [
    "df2['venta Classification'] = k_means.labels_"
   ]
  },
  {
   "cell_type": "code",
   "execution_count": 25,
   "metadata": {},
   "outputs": [
    {
     "data": {
      "text/html": [
       "<div>\n",
       "<style scoped>\n",
       "    .dataframe tbody tr th:only-of-type {\n",
       "        vertical-align: middle;\n",
       "    }\n",
       "\n",
       "    .dataframe tbody tr th {\n",
       "        vertical-align: top;\n",
       "    }\n",
       "\n",
       "    .dataframe thead th {\n",
       "        text-align: right;\n",
       "    }\n",
       "</style>\n",
       "<table border=\"1\" class=\"dataframe\">\n",
       "  <thead>\n",
       "    <tr style=\"text-align: right;\">\n",
       "      <th></th>\n",
       "      <th>id</th>\n",
       "      <th>acquisition_id</th>\n",
       "      <th>acquiring_object_id</th>\n",
       "      <th>acquired_object_id</th>\n",
       "      <th>term_code</th>\n",
       "      <th>price_amount</th>\n",
       "      <th>price_currency_code</th>\n",
       "      <th>acquired_at</th>\n",
       "      <th>source_url</th>\n",
       "      <th>source_description</th>\n",
       "      <th>created_at</th>\n",
       "      <th>updated_at</th>\n",
       "      <th>venta Classification</th>\n",
       "    </tr>\n",
       "  </thead>\n",
       "  <tbody>\n",
       "    <tr>\n",
       "      <th>1</th>\n",
       "      <td>2</td>\n",
       "      <td>7</td>\n",
       "      <td>c:59</td>\n",
       "      <td>c:72</td>\n",
       "      <td>cash</td>\n",
       "      <td>60000000.0</td>\n",
       "      <td>USD</td>\n",
       "      <td>2007-07-01</td>\n",
       "      <td>http://www.techcrunch.com/2007/07/02/deal-is-c...</td>\n",
       "      <td>Deal is Confirmed: Google Acquired GrandCentral</td>\n",
       "      <td>2007-07-03 08:14:50</td>\n",
       "      <td>2011-05-06 21:51:05</td>\n",
       "      <td>0</td>\n",
       "    </tr>\n",
       "    <tr>\n",
       "      <th>2</th>\n",
       "      <td>3</td>\n",
       "      <td>8</td>\n",
       "      <td>c:24</td>\n",
       "      <td>c:132</td>\n",
       "      <td>cash</td>\n",
       "      <td>280000000.0</td>\n",
       "      <td>USD</td>\n",
       "      <td>2007-05-01</td>\n",
       "      <td>http://www.techcrunch.com/2007/05/30/cbs-acqui...</td>\n",
       "      <td>CBS Acquires Europeâs Last.fm for $280 million</td>\n",
       "      <td>2007-07-12 04:19:24</td>\n",
       "      <td>2008-05-19 04:48:50</td>\n",
       "      <td>3</td>\n",
       "    </tr>\n",
       "    <tr>\n",
       "      <th>3</th>\n",
       "      <td>4</td>\n",
       "      <td>9</td>\n",
       "      <td>c:59</td>\n",
       "      <td>c:155</td>\n",
       "      <td>cash</td>\n",
       "      <td>100000000.0</td>\n",
       "      <td>USD</td>\n",
       "      <td>2007-06-01</td>\n",
       "      <td>http://techcrunch.com/2007/05/23/100-million-p...</td>\n",
       "      <td>$100 Million Payday For Feedburner  This Deal...</td>\n",
       "      <td>2007-07-13 09:52:59</td>\n",
       "      <td>2012-06-05 03:22:17</td>\n",
       "      <td>0</td>\n",
       "    </tr>\n",
       "    <tr>\n",
       "      <th>4</th>\n",
       "      <td>5</td>\n",
       "      <td>10</td>\n",
       "      <td>c:212</td>\n",
       "      <td>c:215</td>\n",
       "      <td>cash</td>\n",
       "      <td>25000000.0</td>\n",
       "      <td>USD</td>\n",
       "      <td>2007-07-01</td>\n",
       "      <td>http://blog.seattlepi.nwsource.com/venture/arc...</td>\n",
       "      <td>seatlepi.com</td>\n",
       "      <td>2007-07-20 05:29:07</td>\n",
       "      <td>2008-02-25 00:23:47</td>\n",
       "      <td>0</td>\n",
       "    </tr>\n",
       "    <tr>\n",
       "      <th>6</th>\n",
       "      <td>7</td>\n",
       "      <td>12</td>\n",
       "      <td>c:5</td>\n",
       "      <td>c:230</td>\n",
       "      <td>cash</td>\n",
       "      <td>0.0</td>\n",
       "      <td>USD</td>\n",
       "      <td>2007-07-01</td>\n",
       "      <td>http://www.techcrunch.com/2007/07/19/breaking-...</td>\n",
       "      <td>NaN</td>\n",
       "      <td>2007-07-26 07:36:07</td>\n",
       "      <td>2009-08-10 19:37:37</td>\n",
       "      <td>0</td>\n",
       "    </tr>\n",
       "  </tbody>\n",
       "</table>\n",
       "</div>"
      ],
      "text/plain": [
       "   id  acquisition_id acquiring_object_id acquired_object_id term_code  \\\n",
       "1   2               7                c:59               c:72      cash   \n",
       "2   3               8                c:24              c:132      cash   \n",
       "3   4               9                c:59              c:155      cash   \n",
       "4   5              10               c:212              c:215      cash   \n",
       "6   7              12                 c:5              c:230      cash   \n",
       "\n",
       "   price_amount price_currency_code acquired_at  \\\n",
       "1    60000000.0                 USD  2007-07-01   \n",
       "2   280000000.0                 USD  2007-05-01   \n",
       "3   100000000.0                 USD  2007-06-01   \n",
       "4    25000000.0                 USD  2007-07-01   \n",
       "6           0.0                 USD  2007-07-01   \n",
       "\n",
       "                                          source_url  \\\n",
       "1  http://www.techcrunch.com/2007/07/02/deal-is-c...   \n",
       "2  http://www.techcrunch.com/2007/05/30/cbs-acqui...   \n",
       "3  http://techcrunch.com/2007/05/23/100-million-p...   \n",
       "4  http://blog.seattlepi.nwsource.com/venture/arc...   \n",
       "6  http://www.techcrunch.com/2007/07/19/breaking-...   \n",
       "\n",
       "                                  source_description           created_at  \\\n",
       "1    Deal is Confirmed: Google Acquired GrandCentral  2007-07-03 08:14:50   \n",
       "2   CBS Acquires Europeâs Last.fm for $280 million  2007-07-12 04:19:24   \n",
       "3  $100 Million Payday For Feedburner  This Deal...  2007-07-13 09:52:59   \n",
       "4                                       seatlepi.com  2007-07-20 05:29:07   \n",
       "6                                                NaN  2007-07-26 07:36:07   \n",
       "\n",
       "            updated_at  venta Classification  \n",
       "1  2011-05-06 21:51:05                     0  \n",
       "2  2008-05-19 04:48:50                     3  \n",
       "3  2012-06-05 03:22:17                     0  \n",
       "4  2008-02-25 00:23:47                     0  \n",
       "6  2009-08-10 19:37:37                     0  "
      ]
     },
     "execution_count": 25,
     "metadata": {},
     "output_type": "execute_result"
    }
   ],
   "source": [
    "df2.head()"
   ]
  }
 ],
 "metadata": {
  "interpreter": {
   "hash": "bc6858c077c12d24eef1cb1e65c1371d99fb3010b90053e3f0d5693a5c7f020d"
  },
  "kernelspec": {
   "display_name": "Python 3.8.5 64-bit",
   "language": "python",
   "name": "python3"
  },
  "language_info": {
   "codemirror_mode": {
    "name": "ipython",
    "version": 3
   },
   "file_extension": ".py",
   "mimetype": "text/x-python",
   "name": "python",
   "nbconvert_exporter": "python",
   "pygments_lexer": "ipython3",
   "version": "3.8.5"
  },
  "orig_nbformat": 4
 },
 "nbformat": 4,
 "nbformat_minor": 2
}
