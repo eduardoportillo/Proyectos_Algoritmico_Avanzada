{
 "cells": [
  {
   "cell_type": "markdown",
   "metadata": {},
   "source": [
    "# Aplicación del modelo KMeans"
   ]
  },
  {
   "cell_type": "code",
   "execution_count": 1,
   "metadata": {},
   "outputs": [],
   "source": [
    "from sklearn.cluster import KMeans\n",
    "from sklearn.datasets import make_blobs\n",
    "\n",
    "import pandas as pd\n",
    "import numpy as np\n",
    "import matplotlib.pyplot as plt"
   ]
  },
  {
   "cell_type": "code",
   "execution_count": 2,
   "metadata": {},
   "outputs": [],
   "source": [
    "x, y = make_blobs(n_samples=400)"
   ]
  },
  {
   "cell_type": "code",
   "execution_count": 3,
   "metadata": {},
   "outputs": [],
   "source": [
    "df = pd.DataFrame(x)"
   ]
  },
  {
   "cell_type": "code",
   "execution_count": 4,
   "metadata": {},
   "outputs": [
    {
     "data": {
      "text/html": [
       "<div>\n",
       "<style scoped>\n",
       "    .dataframe tbody tr th:only-of-type {\n",
       "        vertical-align: middle;\n",
       "    }\n",
       "\n",
       "    .dataframe tbody tr th {\n",
       "        vertical-align: top;\n",
       "    }\n",
       "\n",
       "    .dataframe thead th {\n",
       "        text-align: right;\n",
       "    }\n",
       "</style>\n",
       "<table border=\"1\" class=\"dataframe\">\n",
       "  <thead>\n",
       "    <tr style=\"text-align: right;\">\n",
       "      <th></th>\n",
       "      <th>0</th>\n",
       "      <th>1</th>\n",
       "    </tr>\n",
       "  </thead>\n",
       "  <tbody>\n",
       "    <tr>\n",
       "      <th>count</th>\n",
       "      <td>400.000000</td>\n",
       "      <td>400.000000</td>\n",
       "    </tr>\n",
       "    <tr>\n",
       "      <th>mean</th>\n",
       "      <td>0.616315</td>\n",
       "      <td>-0.293799</td>\n",
       "    </tr>\n",
       "    <tr>\n",
       "      <th>std</th>\n",
       "      <td>7.036390</td>\n",
       "      <td>4.756951</td>\n",
       "    </tr>\n",
       "    <tr>\n",
       "      <th>min</th>\n",
       "      <td>-10.758752</td>\n",
       "      <td>-7.586330</td>\n",
       "    </tr>\n",
       "    <tr>\n",
       "      <th>25%</th>\n",
       "      <td>-7.775477</td>\n",
       "      <td>-3.946752</td>\n",
       "    </tr>\n",
       "    <tr>\n",
       "      <th>50%</th>\n",
       "      <td>2.015151</td>\n",
       "      <td>-2.635355</td>\n",
       "    </tr>\n",
       "    <tr>\n",
       "      <th>75%</th>\n",
       "      <td>7.713885</td>\n",
       "      <td>5.742110</td>\n",
       "    </tr>\n",
       "    <tr>\n",
       "      <th>max</th>\n",
       "      <td>10.887781</td>\n",
       "      <td>9.313162</td>\n",
       "    </tr>\n",
       "  </tbody>\n",
       "</table>\n",
       "</div>"
      ],
      "text/plain": [
       "                0           1\n",
       "count  400.000000  400.000000\n",
       "mean     0.616315   -0.293799\n",
       "std      7.036390    4.756951\n",
       "min    -10.758752   -7.586330\n",
       "25%     -7.775477   -3.946752\n",
       "50%      2.015151   -2.635355\n",
       "75%      7.713885    5.742110\n",
       "max     10.887781    9.313162"
      ]
     },
     "execution_count": 4,
     "metadata": {},
     "output_type": "execute_result"
    }
   ],
   "source": [
    "df.describe()"
   ]
  },
  {
   "cell_type": "markdown",
   "metadata": {},
   "source": [
    "### Vamos a familiarizarnos con KMeans"
   ]
  },
  {
   "cell_type": "code",
   "execution_count": 5,
   "metadata": {},
   "outputs": [],
   "source": [
    "k_means_model = KMeans()"
   ]
  },
  {
   "cell_type": "code",
   "execution_count": 6,
   "metadata": {},
   "outputs": [
    {
     "data": {
      "text/plain": [
       "KMeans()"
      ]
     },
     "execution_count": 6,
     "metadata": {},
     "output_type": "execute_result"
    }
   ],
   "source": [
    "k_means_model.fit(df)"
   ]
  },
  {
   "cell_type": "markdown",
   "metadata": {},
   "source": [
    "**El modelo KMeans cuenta con las siguientes características**"
   ]
  },
  {
   "cell_type": "code",
   "execution_count": 7,
   "metadata": {},
   "outputs": [
    {
     "data": {
      "text/plain": [
       "array([4, 2, 3, 1, 5, 5, 3, 2, 5, 0, 4, 1, 4, 3, 1, 1, 6, 2, 7, 4, 1, 4,\n",
       "       3, 6, 2, 3, 4, 6, 1, 5, 3, 1, 6, 7, 6, 3, 6, 7, 1, 7, 3, 7, 2, 2,\n",
       "       7, 4, 6, 0, 0, 4, 5, 1, 7, 1, 2, 6, 1, 5, 0, 7, 4, 4, 2, 2, 6, 7,\n",
       "       4, 4, 1, 1, 3, 3, 5, 3, 6, 3, 4, 7, 7, 2, 3, 7, 7, 5, 3, 3, 7, 6,\n",
       "       5, 7, 6, 2, 7, 5, 5, 6, 0, 7, 3, 7, 1, 0, 0, 7, 6, 7, 1, 3, 5, 7,\n",
       "       3, 7, 3, 0, 6, 1, 4, 5, 1, 5, 1, 1, 2, 7, 3, 2, 5, 7, 1, 7, 4, 6,\n",
       "       1, 7, 0, 2, 4, 3, 4, 5, 4, 3, 1, 0, 4, 1, 6, 6, 4, 3, 2, 0, 0, 7,\n",
       "       5, 1, 7, 0, 7, 6, 7, 0, 5, 3, 1, 3, 2, 4, 1, 7, 4, 1, 3, 6, 0, 1,\n",
       "       2, 3, 7, 3, 2, 5, 4, 1, 3, 5, 1, 2, 5, 2, 0, 4, 6, 4, 3, 1, 4, 6,\n",
       "       3, 0, 3, 3, 2, 2, 1, 1, 1, 3, 2, 1, 0, 6, 0, 6, 1, 6, 6, 3, 1, 0,\n",
       "       1, 1, 1, 7, 4, 7, 6, 7, 2, 7, 7, 6, 6, 6, 7, 1, 4, 3, 3, 7, 4, 6,\n",
       "       2, 5, 1, 3, 1, 6, 1, 7, 1, 2, 5, 6, 3, 6, 6, 3, 3, 6, 6, 6, 5, 5,\n",
       "       6, 5, 1, 5, 4, 5, 7, 6, 5, 6, 5, 6, 2, 5, 0, 5, 7, 0, 5, 4, 7, 6,\n",
       "       1, 6, 2, 7, 5, 3, 6, 5, 3, 5, 3, 2, 5, 6, 0, 2, 3, 0, 4, 0, 7, 3,\n",
       "       3, 1, 5, 1, 5, 7, 1, 0, 1, 0, 3, 0, 1, 1, 6, 6, 5, 1, 3, 7, 2, 1,\n",
       "       1, 3, 5, 2, 3, 1, 2, 7, 5, 1, 6, 1, 4, 5, 2, 2, 2, 2, 1, 3, 3, 6,\n",
       "       1, 3, 3, 7, 1, 7, 6, 4, 1, 5, 7, 7, 5, 3, 6, 1, 1, 3, 4, 0, 4, 7,\n",
       "       7, 5, 0, 1, 0, 3, 2, 3, 3, 1, 3, 3, 3, 7, 3, 4, 3, 2, 5, 1, 2, 3,\n",
       "       5, 4, 0, 6])"
      ]
     },
     "execution_count": 7,
     "metadata": {},
     "output_type": "execute_result"
    }
   ],
   "source": [
    "# Tenemos las etiquetas generadas\n",
    "k_means_model.labels_"
   ]
  },
  {
   "cell_type": "code",
   "execution_count": 8,
   "metadata": {},
   "outputs": [
    {
     "data": {
      "text/plain": [
       "array([[ 8.10007246,  7.36047171],\n",
       "       [ 2.10688942, -3.51176787],\n",
       "       [-7.34845174, -2.35042597],\n",
       "       [ 1.80021838, -5.21986839],\n",
       "       [-9.44453572, -1.89044663],\n",
       "       [ 9.3827069 ,  6.1605861 ],\n",
       "       [ 7.68003147,  5.58680589],\n",
       "       [-8.71527666, -3.55814862]])"
      ]
     },
     "execution_count": 8,
     "metadata": {},
     "output_type": "execute_result"
    }
   ],
   "source": [
    "# Los puntos centroides\n",
    "k_means_model.cluster_centers_"
   ]
  },
  {
   "cell_type": "code",
   "execution_count": 9,
   "metadata": {},
   "outputs": [
    {
     "data": {
      "image/png": "[encoded data removed]",
      "text/plain": [
       "<Figure size 432x288 with 1 Axes>"
      ]
     },
     "metadata": {
      "needs_background": "light"
     },
     "output_type": "display_data"
    }
   ],
   "source": [
    "plt.scatter(df[0], df[1], marker=\".\", c=\"blue\")\n",
    "plt.scatter(k_means_model.cluster_centers_[:, 0], k_means_model.cluster_centers_[:, 1], marker='x', c=\"red\")\n",
    "plt.show()"
   ]
  },
  {
   "cell_type": "markdown",
   "metadata": {},
   "source": [
    "## LA CURVA DE ELBOW"
   ]
  },
  {
   "cell_type": "code",
   "execution_count": 10,
   "metadata": {},
   "outputs": [],
   "source": [
    "options = range(1, 9)\n",
    "clusters = [KMeans(n_clusters=option) for option in options]\n",
    "scores  = [clusters[index].fit(df).score(df) for index in range(len(clusters))]"
   ]
  },
  {
   "cell_type": "code",
   "execution_count": 11,
   "metadata": {},
   "outputs": [
    {
     "data": {
      "image/png": "[encoded data removed]",
      "text/plain": [
       "<Figure size 432x288 with 1 Axes>"
      ]
     },
     "metadata": {
      "needs_background": "light"
     },
     "output_type": "display_data"
    }
   ],
   "source": [
    "plt.plot(options, scores)\n",
    "plt.xlabel('Número de Clusters')\n",
    "plt.ylabel('Puntuación')\n",
    "plt.show()"
   ]
  },
  {
   "cell_type": "markdown",
   "metadata": {},
   "source": [
    "### Entrenamos el modelo con el valor correcto de centroides"
   ]
  },
  {
   "cell_type": "code",
   "execution_count": 12,
   "metadata": {},
   "outputs": [],
   "source": [
    "real_model = KMeans(n_clusters=3)"
   ]
  },
  {
   "cell_type": "code",
   "execution_count": 13,
   "metadata": {},
   "outputs": [
    {
     "data": {
      "text/plain": [
       "KMeans(n_clusters=3)"
      ]
     },
     "execution_count": 13,
     "metadata": {},
     "output_type": "execute_result"
    }
   ],
   "source": [
    "real_model.fit(df)"
   ]
  },
  {
   "cell_type": "code",
   "execution_count": 14,
   "metadata": {},
   "outputs": [
    {
     "data": {
      "text/plain": [
       "array([2, 2, 1, 1, 0, 0, 1, 2, 0, 0, 2, 1, 2, 1, 1, 1, 0, 2, 2, 2, 1, 2,\n",
       "       1, 0, 2, 1, 2, 0, 1, 0, 1, 1, 0, 2, 0, 1, 0, 2, 1, 2, 1, 2, 2, 2,\n",
       "       2, 2, 0, 0, 0, 2, 0, 1, 2, 1, 2, 0, 1, 0, 0, 2, 2, 2, 2, 2, 0, 2,\n",
       "       2, 2, 1, 1, 1, 1, 0, 1, 0, 1, 2, 2, 2, 2, 1, 2, 2, 0, 1, 1, 2, 0,\n",
       "       0, 2, 0, 2, 2, 0, 0, 0, 0, 2, 1, 2, 1, 0, 0, 2, 0, 2, 1, 1, 0, 2,\n",
       "       1, 2, 1, 0, 0, 1, 2, 0, 1, 0, 1, 1, 2, 2, 1, 2, 0, 2, 1, 2, 2, 0,\n",
       "       1, 2, 0, 2, 2, 1, 2, 0, 2, 1, 1, 0, 2, 1, 0, 0, 2, 1, 2, 0, 0, 2,\n",
       "       0, 1, 2, 0, 2, 0, 2, 0, 0, 1, 1, 1, 2, 2, 1, 2, 2, 1, 1, 0, 0, 1,\n",
       "       2, 1, 2, 1, 2, 0, 2, 1, 1, 0, 1, 2, 0, 2, 0, 2, 0, 2, 1, 1, 2, 0,\n",
       "       1, 0, 1, 1, 2, 2, 1, 1, 1, 1, 2, 1, 0, 0, 0, 0, 1, 0, 0, 1, 1, 0,\n",
       "       1, 1, 1, 2, 2, 2, 0, 2, 2, 2, 2, 0, 0, 0, 2, 1, 2, 1, 1, 2, 2, 0,\n",
       "       2, 0, 1, 1, 1, 0, 1, 2, 1, 2, 0, 0, 1, 0, 0, 1, 1, 0, 0, 0, 0, 0,\n",
       "       0, 0, 1, 0, 2, 0, 2, 0, 0, 0, 0, 0, 2, 0, 0, 0, 2, 0, 0, 2, 2, 0,\n",
       "       1, 0, 2, 2, 0, 1, 0, 0, 1, 0, 1, 2, 0, 0, 0, 2, 1, 0, 2, 0, 2, 1,\n",
       "       1, 1, 0, 1, 0, 2, 1, 0, 1, 0, 1, 0, 1, 1, 0, 0, 0, 1, 1, 2, 2, 1,\n",
       "       1, 1, 0, 2, 1, 1, 2, 2, 0, 1, 0, 1, 2, 0, 2, 2, 2, 2, 1, 1, 1, 0,\n",
       "       1, 1, 1, 2, 1, 2, 0, 2, 1, 0, 2, 2, 0, 1, 0, 1, 1, 1, 2, 0, 2, 2,\n",
       "       2, 0, 0, 1, 0, 1, 2, 1, 1, 1, 1, 1, 1, 2, 1, 2, 1, 2, 0, 1, 2, 1,\n",
       "       0, 2, 0, 0])"
      ]
     },
     "execution_count": 14,
     "metadata": {},
     "output_type": "execute_result"
    }
   ],
   "source": [
    "real_model.labels_"
   ]
  },
  {
   "cell_type": "code",
   "execution_count": 15,
   "metadata": {},
   "outputs": [
    {
     "data": {
      "text/plain": [
       "array([[ 8.39559336,  6.22063113],\n",
       "       [ 1.95584249, -4.35307111],\n",
       "       [-8.51256123, -2.71843748]])"
      ]
     },
     "execution_count": 15,
     "metadata": {},
     "output_type": "execute_result"
    }
   ],
   "source": [
    "real_model.cluster_centers_"
   ]
  },
  {
   "cell_type": "code",
   "execution_count": 16,
   "metadata": {},
   "outputs": [
    {
     "data": {
      "image/png": "[encoded data removed]",
      "text/plain": [
       "<Figure size 432x288 with 1 Axes>"
      ]
     },
     "metadata": {
      "needs_background": "light"
     },
     "output_type": "display_data"
    }
   ],
   "source": [
    "plt.scatter(df[0], df[1], marker=\".\", c=\"blue\")\n",
    "plt.scatter(real_model.cluster_centers_[:, 0], real_model.cluster_centers_[:, 1], marker='x', c=\"red\")\n",
    "plt.show()"
   ]
  },
  {
   "cell_type": "code",
   "execution_count": 29,
   "metadata": {},
   "outputs": [],
   "source": [
    "predicted = real_model.predict(df.to_numpy()[0:20])"
   ]
  },
  {
   "cell_type": "code",
   "execution_count": 27,
   "metadata": {},
   "outputs": [
    {
     "data": {
      "text/plain": [
       "array([2, 2, 1, 1, 0, 0, 1, 2, 0, 0, 2, 1, 2, 1, 1, 1, 0, 2, 2, 2])"
      ]
     },
     "execution_count": 27,
     "metadata": {},
     "output_type": "execute_result"
    }
   ],
   "source": [
    "predicted"
   ]
  },
  {
   "cell_type": "code",
   "execution_count": 28,
   "metadata": {},
   "outputs": [
    {
     "name": "stdout",
     "output_type": "stream",
     "text": [
      "El empleado tiene Bastante experiencia.\n",
      "El empleado tiene Bastante experiencia.\n",
      "El empleado tiene Poca experiencia.\n",
      "El empleado tiene Poca experiencia.\n",
      "El empleado tiene Ninguna experiencia.\n",
      "El empleado tiene Ninguna experiencia.\n",
      "El empleado tiene Poca experiencia.\n",
      "El empleado tiene Bastante experiencia.\n",
      "El empleado tiene Ninguna experiencia.\n",
      "El empleado tiene Ninguna experiencia.\n",
      "El empleado tiene Bastante experiencia.\n",
      "El empleado tiene Poca experiencia.\n",
      "El empleado tiene Bastante experiencia.\n",
      "El empleado tiene Poca experiencia.\n",
      "El empleado tiene Poca experiencia.\n",
      "El empleado tiene Poca experiencia.\n",
      "El empleado tiene Ninguna experiencia.\n",
      "El empleado tiene Bastante experiencia.\n",
      "El empleado tiene Bastante experiencia.\n",
      "El empleado tiene Bastante experiencia.\n"
     ]
    }
   ],
   "source": [
    "experience = ['Ninguna', 'Poca', 'Bastante']\n",
    "for employee in predicted:\n",
    "    print(f\"El empleado tiene {experience[employee]} experiencia.\")"
   ]
  }
 ],
 "metadata": {
  "interpreter": {
   "hash": "42fa77e3aa595300be1e4ca00e8193fb32240cf3650c2fc7c32589301b492fe3"
  },
  "kernelspec": {
   "display_name": "Python 3.8.5 ('clustering_env': venv)",
   "language": "python",
   "name": "python3"
  },
  "language_info": {
   "codemirror_mode": {
    "name": "ipython",
    "version": 3
   },
   "file_extension": ".py",
   "mimetype": "text/x-python",
   "name": "python",
   "nbconvert_exporter": "python",
   "pygments_lexer": "ipython3",
   "version": "3.8.5"
  },
  "orig_nbformat": 4
 },
 "nbformat": 4,
 "nbformat_minor": 2
}
